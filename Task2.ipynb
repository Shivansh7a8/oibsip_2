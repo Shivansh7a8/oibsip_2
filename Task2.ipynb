{
  "nbformat": 4,
  "nbformat_minor": 0,
  "metadata": {
    "colab": {
      "provenance": []
    },
    "kernelspec": {
      "name": "python3",
      "display_name": "Python 3"
    },
    "language_info": {
      "name": "python"
    }
  },
  "cells": [
    {
      "cell_type": "markdown",
      "source": [
        "SHIVANSH SHUKLA TASK2"
      ],
      "metadata": {
        "id": "Sy3udIkOxOjo"
      }
    },
    {
      "cell_type": "code",
      "execution_count": null,
      "metadata": {
        "id": "1BRJHxBuxLJ6"
      },
      "outputs": [],
      "source": [
        "# libraries\n",
        "import pandas as pd\n",
        "import numpy as np\n",
        "import matplotlib.pyplot as plt\n",
        "import seaborn as sns\n",
        "import plotly.express as px\n",
        "import plotly.graph_objects as go"
      ]
    },
    {
      "cell_type": "code",
      "source": [
        "df=pd.read_csv(\"/content/Unemployment in India.csv\")\n",
        "df.head()"
      ],
      "metadata": {
        "id": "12wgMgkqKmoF"
      },
      "execution_count": null,
      "outputs": []
    },
    {
      "cell_type": "code",
      "source": [
        "#Indentify the shape of data:\n",
        "print(\"Number of Rows\",df.shape[0])\n",
        "print(\"Number of Columns\",df.shape[1])"
      ],
      "metadata": {
        "id": "CaWjnDsWWA8P"
      },
      "execution_count": null,
      "outputs": []
    },
    {
      "cell_type": "code",
      "source": [
        "df.tail()"
      ],
      "metadata": {
        "id": "yLtDqKjqLhjA"
      },
      "execution_count": null,
      "outputs": []
    },
    {
      "cell_type": "code",
      "source": [
        "df.describe()"
      ],
      "metadata": {
        "id": "u1wVimqgO3rA"
      },
      "execution_count": null,
      "outputs": []
    },
    {
      "cell_type": "code",
      "source": [
        "df.info()"
      ],
      "metadata": {
        "id": "zbZU6Kb5PLGT"
      },
      "execution_count": null,
      "outputs": []
    },
    {
      "cell_type": "code",
      "source": [
        "#Checking for missing values in our dataset\n",
        "df.isnull().sum()"
      ],
      "metadata": {
        "id": "q4RveHkZMsg_"
      },
      "execution_count": null,
      "outputs": []
    },
    {
      "cell_type": "code",
      "source": [
        "data=df.dropna(axis=0)"
      ],
      "metadata": {
        "id": "JfXux3BALEAA"
      },
      "execution_count": null,
      "outputs": []
    },
    {
      "cell_type": "code",
      "source": [
        "#removed null vales from dataset\n",
        "data.isnull().sum()"
      ],
      "metadata": {
        "id": "ikjMO8nPNV7g"
      },
      "execution_count": null,
      "outputs": []
    },
    {
      "cell_type": "code",
      "source": [
        "data.info()"
      ],
      "metadata": {
        "id": "PcGlZRRWPGeb"
      },
      "execution_count": null,
      "outputs": []
    },
    {
      "cell_type": "code",
      "source": [
        "print(data['Area'].unique())\n",
        "print(data['Region'].unique())"
      ],
      "metadata": {
        "id": "jqvpL_0fPcwV"
      },
      "execution_count": null,
      "outputs": []
    },
    {
      "cell_type": "code",
      "source": [
        "data[\"Region\"].value_counts()"
      ],
      "metadata": {
        "id": "Cmu0pLT8ZR1X"
      },
      "execution_count": null,
      "outputs": []
    },
    {
      "cell_type": "code",
      "source": [
        "#Which state has the most data\n",
        "color = sns.color_palette()\n",
        "cnt_st = data.Region.value_counts()\n",
        "plt.figure(figsize=(12,8))\n",
        "sns.barplot(cnt_st.index, cnt_st.values, alpha=0.8, color=color[4])\n",
        "plt.ylabel('Appearance counts', fontsize=12)\n",
        "plt.xlabel('Region', fontsize=12)\n",
        "plt.title('Region Counts', fontsize=15)\n",
        "plt.xticks(rotation='vertical')\n",
        "plt.show()"
      ],
      "metadata": {
        "id": "k9893cwwSSTc"
      },
      "execution_count": null,
      "outputs": []
    },
    {
      "cell_type": "code",
      "source": [
        "#Group States with Estimated Unemployment Rate bar graph;\n",
        "group=data.groupby([\"Region\"])[\" Estimated Unemployment Rate (%)\"].max().sort_values(ascending=False).reset_index()\n",
        "x=group[\"Region\"]\n",
        "y=group[\" Estimated Unemployment Rate (%)\"]\n",
        "y,x=zip(*sorted(zip(y,x)))\n",
        "plt.figure(figsize=(15,10))\n",
        "plt.barh(x,y,color=\"blue\")\n",
        "plt.xlabel(\"Region\",fontsize=15)\n",
        "plt.ylabel(\"Estimated Unemployment Rate (%)\",fontsize=15)\n",
        "plt.title(\"Which States has maximum Estimated Unemployment Rate\")\n",
        "plt.rcParams.update({\"axes.facecolor\":\"lightyellow\"})\n",
        "plt.grid(False)\n",
        "plt.show()"
      ],
      "metadata": {
        "id": "xW0qnpmeWapO"
      },
      "execution_count": null,
      "outputs": []
    },
    {
      "cell_type": "code",
      "source": [
        "# take the mean of rate state by state\n",
        "grouped_df = data.groupby([\"Region\"])[\" Estimated Unemployment Rate (%)\"].aggregate(\"mean\").reset_index()\n",
        "\n",
        "plt.figure(figsize=(12,8))\n",
        "sns.pointplot(grouped_df['Region'].values, grouped_df[' Estimated Unemployment Rate (%)'].values, alpha=0.8, color=color[2])\n",
        "plt.ylabel('Mean rate', fontsize=12)\n",
        "plt.xlabel('Region', fontsize=12)\n",
        "plt.title(\"Average of mean\", fontsize=15)\n",
        "plt.xticks(rotation='vertical')\n",
        "plt.show()"
      ],
      "metadata": {
        "id": "HNgunKKyTW_P"
      },
      "execution_count": null,
      "outputs": []
    },
    {
      "cell_type": "code",
      "source": [
        "Estimated=data.groupby(\"Region\")[\" Estimated Employed\"].sum().sort_values(ascending=False).reset_index().head(10)\n",
        "plt.figure(figsize=(15,10))\n",
        "plt.bar(Estimated[\"Region\"],Estimated[\" Estimated Employed\"],color=\"lightblue\")\n",
        "plt.title(\"Top10 States with higest Estimated Employed\",fontsize=15)\n",
        "plt.xlabel(\"Region\",fontsize=15)\n",
        "plt.ylabel(\"Estimated Employed\",fontsize=15)\n",
        "plt.rcParams.update({\"axes.facecolor\":\"lightyellow\"})\n",
        "plt.grid(False)\n",
        "plt.show()"
      ],
      "metadata": {
        "id": "etidnRJHUgmh"
      },
      "execution_count": null,
      "outputs": []
    },
    {
      "cell_type": "code",
      "source": [
        "Estimated_rate=data.groupby(\"Region\")[\" Estimated Labour Participation Rate (%)\"].max().sort_values(ascending=False).reset_index().head(10)\n",
        "plt.figure(figsize=(20,10))\n",
        "plt.bar(Estimated_rate[\"Region\"],Estimated_rate[\" Estimated Labour Participation Rate (%)\"],color=\"blue\")\n",
        "plt.title(\"Top10 States with higest Estimated Labour Participation Rate\",fontsize=15)\n",
        "plt.xlabel(\"Region\",fontsize=15)\n",
        "plt.ylabel(\"Estimated Labour Participation Rate (%)\",fontsize=15)\n",
        "plt.rcParams.update({\"axes.facecolor\":\"lightyellow\"})\n",
        "plt.grid(False)\n",
        "plt.show()"
      ],
      "metadata": {
        "id": "aPOTxROgZhIZ"
      },
      "execution_count": null,
      "outputs": []
    },
    {
      "cell_type": "code",
      "source": [
        "Estimated=data.groupby([\"Region\",\"Area\"])[\" Estimated Unemployment Rate (%)\"].mean().sort_values(ascending=False).reset_index()\n",
        "fig=px.sunburst( Estimated,path=[\"Region\",\"Area\"],values=\" Estimated Unemployment Rate (%)\",width=600,height=600,color_continuous_scale=\"RdYlGn\",title=\"Unemployment Rate Each States and Area\")\n",
        "fig.show()"
      ],
      "metadata": {
        "id": "UNd8NOm9aUqI"
      },
      "execution_count": null,
      "outputs": []
    },
    {
      "cell_type": "code",
      "source": [
        "#Correlation\n",
        "plt.figure(figsize=(15,10))\n",
        "corr=data.corr()\n",
        "sns.heatmap(corr,annot=True,square=True,cmap=\"coolwarm\")\n",
        "plt.title(\"Correletion between 3 scores\")\n",
        "plt.yticks(rotation=0)\n",
        "plt.show()\n",
        "\n"
      ],
      "metadata": {
        "id": "Tk-tym4FdVM2"
      },
      "execution_count": null,
      "outputs": []
    },
    {
      "cell_type": "code",
      "source": [
        "#ThankYou"
      ],
      "metadata": {
        "id": "2eozsgWCRLiJ"
      },
      "execution_count": null,
      "outputs": []
    }
  ]
}